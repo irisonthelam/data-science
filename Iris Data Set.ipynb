{
 "metadata": {
  "name": "test",
  "signature": "sha256:f18db8ea5f7deb0d7f64fcf0a5778fd01787e9a0069f2f2f6734fd761772a07f"
 },
 "nbformat": 3,
 "nbformat_minor": 0,
 "worksheets": [
  {
   "cells": [
    {
     "cell_type": "code",
     "collapsed": false,
     "input": [
      "import pandas as pd\n",
      "import numpy as np\n",
      "import matplotlib.pyplot as plt\n",
      "%matplotlib inline"
     ],
     "language": "python",
     "metadata": {},
     "outputs": [],
     "prompt_number": 7
    },
    {
     "cell_type": "code",
     "collapsed": false,
     "input": [
      "data = pd.read_csv(\"https://raw.github.com/pydata/pandas/master/pandas/tests/data/iris.csv\")"
     ],
     "language": "python",
     "metadata": {},
     "outputs": [],
     "prompt_number": 8
    },
    {
     "cell_type": "code",
     "collapsed": false,
     "input": [
      "data.tail()"
     ],
     "language": "python",
     "metadata": {},
     "outputs": [
      {
       "html": [
        "<div style=\"max-height:1000px;max-width:1500px;overflow:auto;\">\n",
        "<table border=\"1\" class=\"dataframe\">\n",
        "  <thead>\n",
        "    <tr style=\"text-align: right;\">\n",
        "      <th></th>\n",
        "      <th>SepalLength</th>\n",
        "      <th>SepalWidth</th>\n",
        "      <th>PetalLength</th>\n",
        "      <th>PetalWidth</th>\n",
        "      <th>Name</th>\n",
        "    </tr>\n",
        "  </thead>\n",
        "  <tbody>\n",
        "    <tr>\n",
        "      <th>145</th>\n",
        "      <td> 6.7</td>\n",
        "      <td> 3.0</td>\n",
        "      <td> 5.2</td>\n",
        "      <td> 2.3</td>\n",
        "      <td> Iris-virginica</td>\n",
        "    </tr>\n",
        "    <tr>\n",
        "      <th>146</th>\n",
        "      <td> 6.3</td>\n",
        "      <td> 2.5</td>\n",
        "      <td> 5.0</td>\n",
        "      <td> 1.9</td>\n",
        "      <td> Iris-virginica</td>\n",
        "    </tr>\n",
        "    <tr>\n",
        "      <th>147</th>\n",
        "      <td> 6.5</td>\n",
        "      <td> 3.0</td>\n",
        "      <td> 5.2</td>\n",
        "      <td> 2.0</td>\n",
        "      <td> Iris-virginica</td>\n",
        "    </tr>\n",
        "    <tr>\n",
        "      <th>148</th>\n",
        "      <td> 6.2</td>\n",
        "      <td> 3.4</td>\n",
        "      <td> 5.4</td>\n",
        "      <td> 2.3</td>\n",
        "      <td> Iris-virginica</td>\n",
        "    </tr>\n",
        "    <tr>\n",
        "      <th>149</th>\n",
        "      <td> 5.9</td>\n",
        "      <td> 3.0</td>\n",
        "      <td> 5.1</td>\n",
        "      <td> 1.8</td>\n",
        "      <td> Iris-virginica</td>\n",
        "    </tr>\n",
        "  </tbody>\n",
        "</table>\n",
        "</div>"
       ],
       "metadata": {},
       "output_type": "pyout",
       "prompt_number": 9,
       "text": [
        "     SepalLength  SepalWidth  PetalLength  PetalWidth            Name\n",
        "145          6.7         3.0          5.2         2.3  Iris-virginica\n",
        "146          6.3         2.5          5.0         1.9  Iris-virginica\n",
        "147          6.5         3.0          5.2         2.0  Iris-virginica\n",
        "148          6.2         3.4          5.4         2.3  Iris-virginica\n",
        "149          5.9         3.0          5.1         1.8  Iris-virginica"
       ]
      }
     ],
     "prompt_number": 9
    },
    {
     "cell_type": "code",
     "collapsed": false,
     "input": [
      "#How many different flower names are in this data set?\n",
      "\n",
      "len(data[\"Name\"].unique())"
     ],
     "language": "python",
     "metadata": {},
     "outputs": [
      {
       "metadata": {},
       "output_type": "pyout",
       "prompt_number": 10,
       "text": [
        "3"
       ]
      }
     ],
     "prompt_number": 10
    },
    {
     "cell_type": "heading",
     "level": 4,
     "metadata": {},
     "source": [
      "len(set(data[\"Name\"].tolist())) <-- if you forget pandas methods"
     ]
    },
    {
     "cell_type": "code",
     "collapsed": false,
     "input": [
      "#How many exist of each type of flower?\n",
      "\n",
      "data.groupby(\"Name\").count()"
     ],
     "language": "python",
     "metadata": {},
     "outputs": [
      {
       "html": [
        "<div style=\"max-height:1000px;max-width:1500px;overflow:auto;\">\n",
        "<table border=\"1\" class=\"dataframe\">\n",
        "  <thead>\n",
        "    <tr style=\"text-align: right;\">\n",
        "      <th></th>\n",
        "      <th>SepalLength</th>\n",
        "      <th>SepalWidth</th>\n",
        "      <th>PetalLength</th>\n",
        "      <th>PetalWidth</th>\n",
        "    </tr>\n",
        "    <tr>\n",
        "      <th>Name</th>\n",
        "      <th></th>\n",
        "      <th></th>\n",
        "      <th></th>\n",
        "      <th></th>\n",
        "    </tr>\n",
        "  </thead>\n",
        "  <tbody>\n",
        "    <tr>\n",
        "      <th>Iris-setosa</th>\n",
        "      <td> 50</td>\n",
        "      <td> 50</td>\n",
        "      <td> 50</td>\n",
        "      <td> 50</td>\n",
        "    </tr>\n",
        "    <tr>\n",
        "      <th>Iris-versicolor</th>\n",
        "      <td> 50</td>\n",
        "      <td> 50</td>\n",
        "      <td> 50</td>\n",
        "      <td> 50</td>\n",
        "    </tr>\n",
        "    <tr>\n",
        "      <th>Iris-virginica</th>\n",
        "      <td> 50</td>\n",
        "      <td> 50</td>\n",
        "      <td> 50</td>\n",
        "      <td> 50</td>\n",
        "    </tr>\n",
        "  </tbody>\n",
        "</table>\n",
        "</div>"
       ],
       "metadata": {},
       "output_type": "pyout",
       "prompt_number": 11,
       "text": [
        "                 SepalLength  SepalWidth  PetalLength  PetalWidth\n",
        "Name                                                             \n",
        "Iris-setosa               50          50           50          50\n",
        "Iris-versicolor           50          50           50          50\n",
        "Iris-virginica            50          50           50          50"
       ]
      }
     ],
     "prompt_number": 11
    },
    {
     "cell_type": "code",
     "collapsed": false,
     "input": [
      "#Determine the min, median, mean, max for each numeric feature in the data set\n",
      "\n",
      "#data.apply(np.min,axis=0)\n",
      "\n",
      "summary_stats = [np.min,np.median,np.mean, np.max ]\n",
      "numeric_data = data[['SepalLength', 'SepalWidth', 'PetalLength', 'PetalWidth']]\n",
      "for stat in summary_stats:\n",
      "    print stat.__name__\n",
      "    print numeric_data.apply(stat)\n",
      "    print \"\\n\""
     ],
     "language": "python",
     "metadata": {},
     "outputs": [
      {
       "output_type": "stream",
       "stream": "stdout",
       "text": [
        "amin\n",
        "SepalLength    4.3\n",
        "SepalWidth     2.0\n",
        "PetalLength    1.0\n",
        "PetalWidth     0.1\n",
        "dtype: float64\n",
        "\n",
        "\n",
        "median\n",
        "SepalLength    5.80\n",
        "SepalWidth     3.00\n",
        "PetalLength    4.35\n",
        "PetalWidth     1.30\n",
        "dtype: float64\n",
        "\n",
        "\n",
        "mean\n",
        "SepalLength    5.843333\n",
        "SepalWidth     3.054000\n",
        "PetalLength    3.758667\n",
        "PetalWidth     1.198667\n",
        "dtype: float64\n",
        "\n",
        "\n",
        "amax\n",
        "SepalLength    7.9\n",
        "SepalWidth     4.4\n",
        "PetalLength    6.9\n",
        "PetalWidth     2.5\n",
        "dtype: float64\n",
        "\n",
        "\n"
       ]
      }
     ],
     "prompt_number": 12
    },
    {
     "cell_type": "code",
     "collapsed": false,
     "input": [
      "#Determine the same for each flower type.\n",
      "\n",
      "grouped=data.groupby(\"Name\")\n",
      "summary_stats = [np.min,np.median,np.mean, np.max ]\n",
      "numeric_data = grouped[['SepalLength', 'SepalWidth', 'PetalLength', 'PetalWidth']]\n",
      "for stat in summary_stats:\n",
      "    print stat.__name__\n",
      "    print numeric_data.agg(stat)\n",
      "    print \"\\n\""
     ],
     "language": "python",
     "metadata": {},
     "outputs": [
      {
       "output_type": "stream",
       "stream": "stdout",
       "text": [
        "amin\n",
        "                 SepalLength  SepalWidth  PetalLength  PetalWidth\n",
        "Name                                                             \n",
        "Iris-setosa              4.3         2.3          1.0         0.1\n",
        "Iris-versicolor          4.9         2.0          3.0         1.0\n",
        "Iris-virginica           4.9         2.2          4.5         1.4\n",
        "\n",
        "\n",
        "median\n",
        "                 SepalLength  SepalWidth  PetalLength  PetalWidth\n",
        "Name                                                             \n",
        "Iris-setosa              5.0         3.4         1.50         0.2\n",
        "Iris-versicolor          5.9         2.8         4.35         1.3\n",
        "Iris-virginica           6.5         3.0         5.55         2.0\n",
        "\n",
        "\n",
        "mean\n",
        "                 SepalLength  SepalWidth  PetalLength  PetalWidth\n",
        "Name                                                             \n",
        "Iris-setosa            5.006       3.418        1.464       0.244\n",
        "Iris-versicolor        5.936       2.770        4.260       1.326\n",
        "Iris-virginica         6.588       2.974        5.552       2.026\n",
        "\n",
        "\n",
        "amax\n",
        "                 SepalLength  SepalWidth  PetalLength  PetalWidth\n",
        "Name                                                             \n",
        "Iris-setosa              5.8         4.4          1.9         0.6\n",
        "Iris-versicolor          7.0         3.4          5.1         1.8\n",
        "Iris-virginica           7.9         3.8          6.9         2.5\n",
        "\n",
        "\n"
       ]
      }
     ],
     "prompt_number": 13
    },
    {
     "cell_type": "code",
     "collapsed": false,
     "input": [
      "def row_name_rules(row):\n",
      "    if row[\"PetalLength\"] <= 2.0:\n",
      "        return \"Iris-setosa\"\n",
      "    elif row[\"PetalLength\"] <=4.5:\n",
      "        return \"Iris-versicolor\"\n",
      "    else:\n",
      "        return \"Iris-virginica\"\n",
      "    \n",
      "data[\"predicted\"]=data.apply(row_name_rules, axis=1)\n",
      "data[data[\"predicted\"]!= data[\"Name\"]]"
     ],
     "language": "python",
     "metadata": {},
     "outputs": [
      {
       "html": [
        "<div style=\"max-height:1000px;max-width:1500px;overflow:auto;\">\n",
        "<table border=\"1\" class=\"dataframe\">\n",
        "  <thead>\n",
        "    <tr style=\"text-align: right;\">\n",
        "      <th></th>\n",
        "      <th>SepalLength</th>\n",
        "      <th>SepalWidth</th>\n",
        "      <th>PetalLength</th>\n",
        "      <th>PetalWidth</th>\n",
        "      <th>Name</th>\n",
        "      <th>predicted</th>\n",
        "    </tr>\n",
        "  </thead>\n",
        "  <tbody>\n",
        "    <tr>\n",
        "      <th>50 </th>\n",
        "      <td> 7.0</td>\n",
        "      <td> 3.2</td>\n",
        "      <td> 4.7</td>\n",
        "      <td> 1.4</td>\n",
        "      <td> Iris-versicolor</td>\n",
        "      <td>  Iris-virginica</td>\n",
        "    </tr>\n",
        "    <tr>\n",
        "      <th>52 </th>\n",
        "      <td> 6.9</td>\n",
        "      <td> 3.1</td>\n",
        "      <td> 4.9</td>\n",
        "      <td> 1.5</td>\n",
        "      <td> Iris-versicolor</td>\n",
        "      <td>  Iris-virginica</td>\n",
        "    </tr>\n",
        "    <tr>\n",
        "      <th>54 </th>\n",
        "      <td> 6.5</td>\n",
        "      <td> 2.8</td>\n",
        "      <td> 4.6</td>\n",
        "      <td> 1.5</td>\n",
        "      <td> Iris-versicolor</td>\n",
        "      <td>  Iris-virginica</td>\n",
        "    </tr>\n",
        "    <tr>\n",
        "      <th>56 </th>\n",
        "      <td> 6.3</td>\n",
        "      <td> 3.3</td>\n",
        "      <td> 4.7</td>\n",
        "      <td> 1.6</td>\n",
        "      <td> Iris-versicolor</td>\n",
        "      <td>  Iris-virginica</td>\n",
        "    </tr>\n",
        "    <tr>\n",
        "      <th>58 </th>\n",
        "      <td> 6.6</td>\n",
        "      <td> 2.9</td>\n",
        "      <td> 4.6</td>\n",
        "      <td> 1.3</td>\n",
        "      <td> Iris-versicolor</td>\n",
        "      <td>  Iris-virginica</td>\n",
        "    </tr>\n",
        "    <tr>\n",
        "      <th>63 </th>\n",
        "      <td> 6.1</td>\n",
        "      <td> 2.9</td>\n",
        "      <td> 4.7</td>\n",
        "      <td> 1.4</td>\n",
        "      <td> Iris-versicolor</td>\n",
        "      <td>  Iris-virginica</td>\n",
        "    </tr>\n",
        "    <tr>\n",
        "      <th>70 </th>\n",
        "      <td> 5.9</td>\n",
        "      <td> 3.2</td>\n",
        "      <td> 4.8</td>\n",
        "      <td> 1.8</td>\n",
        "      <td> Iris-versicolor</td>\n",
        "      <td>  Iris-virginica</td>\n",
        "    </tr>\n",
        "    <tr>\n",
        "      <th>72 </th>\n",
        "      <td> 6.3</td>\n",
        "      <td> 2.5</td>\n",
        "      <td> 4.9</td>\n",
        "      <td> 1.5</td>\n",
        "      <td> Iris-versicolor</td>\n",
        "      <td>  Iris-virginica</td>\n",
        "    </tr>\n",
        "    <tr>\n",
        "      <th>73 </th>\n",
        "      <td> 6.1</td>\n",
        "      <td> 2.8</td>\n",
        "      <td> 4.7</td>\n",
        "      <td> 1.2</td>\n",
        "      <td> Iris-versicolor</td>\n",
        "      <td>  Iris-virginica</td>\n",
        "    </tr>\n",
        "    <tr>\n",
        "      <th>76 </th>\n",
        "      <td> 6.8</td>\n",
        "      <td> 2.8</td>\n",
        "      <td> 4.8</td>\n",
        "      <td> 1.4</td>\n",
        "      <td> Iris-versicolor</td>\n",
        "      <td>  Iris-virginica</td>\n",
        "    </tr>\n",
        "    <tr>\n",
        "      <th>77 </th>\n",
        "      <td> 6.7</td>\n",
        "      <td> 3.0</td>\n",
        "      <td> 5.0</td>\n",
        "      <td> 1.7</td>\n",
        "      <td> Iris-versicolor</td>\n",
        "      <td>  Iris-virginica</td>\n",
        "    </tr>\n",
        "    <tr>\n",
        "      <th>83 </th>\n",
        "      <td> 6.0</td>\n",
        "      <td> 2.7</td>\n",
        "      <td> 5.1</td>\n",
        "      <td> 1.6</td>\n",
        "      <td> Iris-versicolor</td>\n",
        "      <td>  Iris-virginica</td>\n",
        "    </tr>\n",
        "    <tr>\n",
        "      <th>86 </th>\n",
        "      <td> 6.7</td>\n",
        "      <td> 3.1</td>\n",
        "      <td> 4.7</td>\n",
        "      <td> 1.5</td>\n",
        "      <td> Iris-versicolor</td>\n",
        "      <td>  Iris-virginica</td>\n",
        "    </tr>\n",
        "    <tr>\n",
        "      <th>91 </th>\n",
        "      <td> 6.1</td>\n",
        "      <td> 3.0</td>\n",
        "      <td> 4.6</td>\n",
        "      <td> 1.4</td>\n",
        "      <td> Iris-versicolor</td>\n",
        "      <td>  Iris-virginica</td>\n",
        "    </tr>\n",
        "    <tr>\n",
        "      <th>106</th>\n",
        "      <td> 4.9</td>\n",
        "      <td> 2.5</td>\n",
        "      <td> 4.5</td>\n",
        "      <td> 1.7</td>\n",
        "      <td>  Iris-virginica</td>\n",
        "      <td> Iris-versicolor</td>\n",
        "    </tr>\n",
        "  </tbody>\n",
        "</table>\n",
        "</div>"
       ],
       "metadata": {},
       "output_type": "pyout",
       "prompt_number": 14,
       "text": [
        "     SepalLength  SepalWidth  PetalLength  PetalWidth             Name  \\\n",
        "50           7.0         3.2          4.7         1.4  Iris-versicolor   \n",
        "52           6.9         3.1          4.9         1.5  Iris-versicolor   \n",
        "54           6.5         2.8          4.6         1.5  Iris-versicolor   \n",
        "56           6.3         3.3          4.7         1.6  Iris-versicolor   \n",
        "58           6.6         2.9          4.6         1.3  Iris-versicolor   \n",
        "63           6.1         2.9          4.7         1.4  Iris-versicolor   \n",
        "70           5.9         3.2          4.8         1.8  Iris-versicolor   \n",
        "72           6.3         2.5          4.9         1.5  Iris-versicolor   \n",
        "73           6.1         2.8          4.7         1.2  Iris-versicolor   \n",
        "76           6.8         2.8          4.8         1.4  Iris-versicolor   \n",
        "77           6.7         3.0          5.0         1.7  Iris-versicolor   \n",
        "83           6.0         2.7          5.1         1.6  Iris-versicolor   \n",
        "86           6.7         3.1          4.7         1.5  Iris-versicolor   \n",
        "91           6.1         3.0          4.6         1.4  Iris-versicolor   \n",
        "106          4.9         2.5          4.5         1.7   Iris-virginica   \n",
        "\n",
        "           predicted  \n",
        "50    Iris-virginica  \n",
        "52    Iris-virginica  \n",
        "54    Iris-virginica  \n",
        "56    Iris-virginica  \n",
        "58    Iris-virginica  \n",
        "63    Iris-virginica  \n",
        "70    Iris-virginica  \n",
        "72    Iris-virginica  \n",
        "73    Iris-virginica  \n",
        "76    Iris-virginica  \n",
        "77    Iris-virginica  \n",
        "83    Iris-virginica  \n",
        "86    Iris-virginica  \n",
        "91    Iris-virginica  \n",
        "106  Iris-versicolor  "
       ]
      }
     ],
     "prompt_number": 14
    },
    {
     "cell_type": "code",
     "collapsed": false,
     "input": [
      "#np.mean(data.ix[:49,2]) <-- check to make sure data is correct above"
     ],
     "language": "python",
     "metadata": {},
     "outputs": [],
     "prompt_number": 15
    },
    {
     "cell_type": "code",
     "collapsed": false,
     "input": [
      "%matplotlib inline\n",
      "plt.ylabel('SepalLength')\n",
      "plt.xlabel(\"PetalLength\")\n",
      "plt.scatter(data[\"SepalLength\"], data[\"PetalLength\"])"
     ],
     "language": "python",
     "metadata": {},
     "outputs": [
      {
       "metadata": {},
       "output_type": "pyout",
       "prompt_number": 16,
       "text": [
        "<matplotlib.collections.PathCollection at 0x108c34e50>"
       ]
      },
      {
       "metadata": {},
       "output_type": "display_data",
       "png": "[encoded data removed]",
       "text": [
        "<matplotlib.figure.Figure at 0x107645610>"
       ]
      }
     ],
     "prompt_number": 16
    },
    {
     "cell_type": "code",
     "collapsed": false,
     "input": [
      "plt.figure()\n",
      "data.plot();\n",
      "plt.legend(loc=2,prop={'size':6})"
     ],
     "language": "python",
     "metadata": {},
     "outputs": [
      {
       "metadata": {},
       "output_type": "pyout",
       "prompt_number": 17,
       "text": [
        "<matplotlib.legend.Legend at 0x108c5b490>"
       ]
      },
      {
       "metadata": {},
       "output_type": "display_data",
       "text": [
        "<matplotlib.figure.Figure at 0x108c5c750>"
       ]
      },
      {
       "metadata": {},
       "output_type": "display_data",
       "png": "[encoded data removed]",
       "text": [
        "<matplotlib.figure.Figure at 0x108c59dd0>"
       ]
      }
     ],
     "prompt_number": 17
    },
    {
     "cell_type": "heading",
     "level": 1,
     "metadata": {},
     "source": [
      "SK-Learn k-Nearest Neighbors"
     ]
    },
    {
     "cell_type": "code",
     "collapsed": false,
     "input": [
      "from sklearn.neighbors import KNeighborsClassifier\n",
      "from sklearn import preprocessing\n",
      "from sklearn import cross_validation\n",
      "from sklearn.metrics import accuracy_score\n",
      "\n",
      "kf = cross_validation.KFold(150, n_folds=5, shuffle=True)\n",
      "scaler = preprocessing.StandardScaler()\n",
      "\n",
      "validation_results = np.zeros(90)\n",
      "for train_index, test_index in kf:\n",
      "    X = scaler.fit_transform(data.ix[train_index,:4])\n",
      "    test_X = scaler.transform(data.ix[test_index,:4])\n",
      "    y = data.ix[train_index,4]\n",
      "    test_y =  data.ix[test_index,4]\n",
      "    for k in range(1,91):\n",
      "        nbrs = KNeighborsClassifier(n_neighbors=k).fit(X,y)\n",
      "        predictions = nbrs.predict(test_X)\n",
      "        validation_results[k-1] += accuracy_score(test_y, predictions)\n",
      "        \n",
      "val_results = .2*validation_results\n",
      "\n",
      "plt.xlabel('k neighbor #')\n",
      "plt.ylabel('Accuracy 5-fold')\n",
      "plt.plot(range(1,91),val_results)"
     ],
     "language": "python",
     "metadata": {},
     "outputs": [
      {
       "metadata": {},
       "output_type": "pyout",
       "prompt_number": 18,
       "text": [
        "[<matplotlib.lines.Line2D at 0x109fe3290>]"
       ]
      },
      {
       "metadata": {},
       "output_type": "display_data",
       "png": "[encoded data removed]",
       "text": [
        "<matplotlib.figure.Figure at 0x109f9c910>"
       ]
      }
     ],
     "prompt_number": 18
    },
    {
     "cell_type": "code",
     "collapsed": false,
     "input": [
      "centered_data = scaler.fit_transform(data.ix[:,:4])\n",
      "final_model = KNeighborsClassifier(n_neighbors=15).fit(centered_data,data.ix[:,4])"
     ],
     "language": "python",
     "metadata": {},
     "outputs": [],
     "prompt_number": 19
    },
    {
     "cell_type": "code",
     "collapsed": false,
     "input": [
      "accuracy_score(final_model.predict(centered_data), data.ix[:,4])"
     ],
     "language": "python",
     "metadata": {},
     "outputs": [
      {
       "metadata": {},
       "output_type": "pyout",
       "prompt_number": 20,
       "text": [
        "0.96666666666666667"
       ]
      }
     ],
     "prompt_number": 20
    },
    {
     "cell_type": "code",
     "collapsed": false,
     "input": [],
     "language": "python",
     "metadata": {},
     "outputs": [],
     "prompt_number": 20
    }
   ],
   "metadata": {}
  }
 ]
}
